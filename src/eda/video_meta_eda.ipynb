{
 "cells": [
  {
   "cell_type": "markdown",
   "source": [
    "# Sampled video EDA\n",
    "Just a short notebook to get a few insights into how the video database looks. \n",
    "Main objective is to get a feeling for the distribution of the views, likes and dislikes and how they correlate. \n"
   ],
   "metadata": {
    "collapsed": false,
    "pycharm": {
     "name": "#%% md\n"
    }
   }
  },
  {
   "cell_type": "code",
   "execution_count": 1,
   "outputs": [],
   "source": [
    "# Imports\n",
    "import matplotlib.pyplot as plt\n",
    "import seaborn as sns\n",
    "import fabulus\n",
    "\n",
    "import pandas as pd\n",
    "import src.eda.eda_util as eda_util\n",
    "from src.preprocessing.indexer import Indexer\n",
    "\n",
    "import os\n",
    "%pwd\n",
    "%matplotlib inline"
   ],
   "metadata": {
    "collapsed": false,
    "pycharm": {
     "name": "#%%\n",
     "is_executing": false
    }
   }
  },
  {
   "cell_type": "code",
   "execution_count": 2,
   "outputs": [
    {
     "data": {
      "text/plain": "'H:\\\\Workspaces\\\\Projects\\\\PR_data_science'"
     },
     "metadata": {},
     "output_type": "execute_result",
     "execution_count": 2
    }
   ],
   "source": [
    "WDIR = 'H:\\\\Workspaces\\\\Projects\\\\PR_data_science\\\\src\\\\eda'\n",
    "os.chdir(WDIR+'\\\\..\\\\..')\n",
    "os.getcwd()"
   ],
   "metadata": {
    "collapsed": false,
    "pycharm": {
     "name": "#%% \n",
     "is_executing": false
    }
   }
  },
  {
   "cell_type": "code",
   "execution_count": 3,
   "outputs": [],
   "source": [
    "# Fetch the data\n",
    "X_train, X_test, y_train, y_test = Indexer.load_split('cache/tts_42')\n",
    "df = X_train.append(X_test)\n",
    "y = y_train.append(y_test)\n",
    "df = eda_util.get_metaframe(df)\n",
    "df.rename(columns={0: 'v_id', 1: 'n_samples'}, inplace=True)  # Backwards compatibility\n",
    "df['viewcounts'] = y"
   ],
   "metadata": {
    "collapsed": false,
    "pycharm": {
     "name": "#%%\n",
     "is_executing": false
    }
   }
  },
  {
   "cell_type": "markdown",
   "source": [
    "## General Overview"
   ],
   "metadata": {
    "collapsed": false,
    "pycharm": {
     "name": "#%% md\n",
     "is_executing": false
    }
   }
  },
  {
   "cell_type": "code",
   "execution_count": 4,
   "outputs": [
    {
     "data": {
      "text/plain": "             v_id  n_samples                           song_name  \\\n912   cWGE9Gi0bB0         30     Shine On You Crazy Diamond Pt.2   \n594   DumlIIHSrsQ         30                      American Dream   \n564   qdOHPjMzY8s         30  The Boy With The Thorn In His Side   \n1822  5lVatZeQ68Y         30                             Animals   \n2019  S4ZWD_0VRK8         30                          Wild World   \n\n             creator   v_likes  v_dislikes  v_duration  v_avg_rating  \\\n912       Pink Floyd  303592.0     16612.0       802.0      4.792482   \n594   Casting Crowns    8557.0       226.0       248.0      4.897074   \n564       The Smiths   41534.0       850.0       185.0      4.919781   \n1822            Muse    1188.0        45.0       263.0      4.854014   \n2019     Maxi Priest   53718.0      1992.0       215.0      4.856974   \n\n      viewcounts  \n912     56844829  \n594      2645372  \n564      7154588  \n1822      175854  \n2019    10029369  ",
      "text/html": "<div>\n<style scoped>\n    .dataframe tbody tr th:only-of-type {\n        vertical-align: middle;\n    }\n\n    .dataframe tbody tr th {\n        vertical-align: top;\n    }\n\n    .dataframe thead th {\n        text-align: right;\n    }\n</style>\n<table border=\"1\" class=\"dataframe\">\n  <thead>\n    <tr style=\"text-align: right;\">\n      <th></th>\n      <th>v_id</th>\n      <th>n_samples</th>\n      <th>song_name</th>\n      <th>creator</th>\n      <th>v_likes</th>\n      <th>v_dislikes</th>\n      <th>v_duration</th>\n      <th>v_avg_rating</th>\n      <th>viewcounts</th>\n    </tr>\n  </thead>\n  <tbody>\n    <tr>\n      <td>912</td>\n      <td>cWGE9Gi0bB0</td>\n      <td>30</td>\n      <td>Shine On You Crazy Diamond Pt.2</td>\n      <td>Pink Floyd</td>\n      <td>303592.0</td>\n      <td>16612.0</td>\n      <td>802.0</td>\n      <td>4.792482</td>\n      <td>56844829</td>\n    </tr>\n    <tr>\n      <td>594</td>\n      <td>DumlIIHSrsQ</td>\n      <td>30</td>\n      <td>American Dream</td>\n      <td>Casting Crowns</td>\n      <td>8557.0</td>\n      <td>226.0</td>\n      <td>248.0</td>\n      <td>4.897074</td>\n      <td>2645372</td>\n    </tr>\n    <tr>\n      <td>564</td>\n      <td>qdOHPjMzY8s</td>\n      <td>30</td>\n      <td>The Boy With The Thorn In His Side</td>\n      <td>The Smiths</td>\n      <td>41534.0</td>\n      <td>850.0</td>\n      <td>185.0</td>\n      <td>4.919781</td>\n      <td>7154588</td>\n    </tr>\n    <tr>\n      <td>1822</td>\n      <td>5lVatZeQ68Y</td>\n      <td>30</td>\n      <td>Animals</td>\n      <td>Muse</td>\n      <td>1188.0</td>\n      <td>45.0</td>\n      <td>263.0</td>\n      <td>4.854014</td>\n      <td>175854</td>\n    </tr>\n    <tr>\n      <td>2019</td>\n      <td>S4ZWD_0VRK8</td>\n      <td>30</td>\n      <td>Wild World</td>\n      <td>Maxi Priest</td>\n      <td>53718.0</td>\n      <td>1992.0</td>\n      <td>215.0</td>\n      <td>4.856974</td>\n      <td>10029369</td>\n    </tr>\n  </tbody>\n</table>\n</div>"
     },
     "metadata": {},
     "output_type": "execute_result",
     "execution_count": 4
    }
   ],
   "source": [
    "df.head()"
   ],
   "metadata": {
    "collapsed": false,
    "pycharm": {
     "name": "#%% \n",
     "is_executing": false
    }
   }
  },
  {
   "cell_type": "code",
   "execution_count": 5,
   "outputs": [
    {
     "data": {
      "text/plain": "       n_samples       v_likes    v_dislikes   v_duration  v_avg_rating  \\\ncount     3871.0  3.849000e+03  3.849000e+03  3871.000000   3871.000000   \nmean        30.0  3.016534e+05  1.297487e+04   253.541720      4.880807   \nstd          0.0  8.498919e+05  5.817202e+04   118.489541      0.109742   \nmin         30.0  1.000000e+00  0.000000e+00    40.000000      2.934525   \n25%         30.0  2.543000e+03  5.800000e+01   209.000000      4.866445   \n50%         30.0  2.723400e+04  6.430000e+02   238.000000      4.902820   \n75%         30.0  1.879370e+05  5.218000e+03   276.000000      4.927784   \nmax         30.0  1.152428e+07  1.555113e+06  4478.000000      5.000000   \n\n         viewcounts  \ncount  3.871000e+03  \nmean   6.153432e+07  \nstd    1.838643e+08  \nmin    2.100000e+01  \n25%    3.467615e+05  \n50%    4.789629e+06  \n75%    3.526810e+07  \nmax    2.953195e+09  ",
      "text/html": "<div>\n<style scoped>\n    .dataframe tbody tr th:only-of-type {\n        vertical-align: middle;\n    }\n\n    .dataframe tbody tr th {\n        vertical-align: top;\n    }\n\n    .dataframe thead th {\n        text-align: right;\n    }\n</style>\n<table border=\"1\" class=\"dataframe\">\n  <thead>\n    <tr style=\"text-align: right;\">\n      <th></th>\n      <th>n_samples</th>\n      <th>v_likes</th>\n      <th>v_dislikes</th>\n      <th>v_duration</th>\n      <th>v_avg_rating</th>\n      <th>viewcounts</th>\n    </tr>\n  </thead>\n  <tbody>\n    <tr>\n      <td>count</td>\n      <td>3871.0</td>\n      <td>3.849000e+03</td>\n      <td>3.849000e+03</td>\n      <td>3871.000000</td>\n      <td>3871.000000</td>\n      <td>3.871000e+03</td>\n    </tr>\n    <tr>\n      <td>mean</td>\n      <td>30.0</td>\n      <td>3.016534e+05</td>\n      <td>1.297487e+04</td>\n      <td>253.541720</td>\n      <td>4.880807</td>\n      <td>6.153432e+07</td>\n    </tr>\n    <tr>\n      <td>std</td>\n      <td>0.0</td>\n      <td>8.498919e+05</td>\n      <td>5.817202e+04</td>\n      <td>118.489541</td>\n      <td>0.109742</td>\n      <td>1.838643e+08</td>\n    </tr>\n    <tr>\n      <td>min</td>\n      <td>30.0</td>\n      <td>1.000000e+00</td>\n      <td>0.000000e+00</td>\n      <td>40.000000</td>\n      <td>2.934525</td>\n      <td>2.100000e+01</td>\n    </tr>\n    <tr>\n      <td>25%</td>\n      <td>30.0</td>\n      <td>2.543000e+03</td>\n      <td>5.800000e+01</td>\n      <td>209.000000</td>\n      <td>4.866445</td>\n      <td>3.467615e+05</td>\n    </tr>\n    <tr>\n      <td>50%</td>\n      <td>30.0</td>\n      <td>2.723400e+04</td>\n      <td>6.430000e+02</td>\n      <td>238.000000</td>\n      <td>4.902820</td>\n      <td>4.789629e+06</td>\n    </tr>\n    <tr>\n      <td>75%</td>\n      <td>30.0</td>\n      <td>1.879370e+05</td>\n      <td>5.218000e+03</td>\n      <td>276.000000</td>\n      <td>4.927784</td>\n      <td>3.526810e+07</td>\n    </tr>\n    <tr>\n      <td>max</td>\n      <td>30.0</td>\n      <td>1.152428e+07</td>\n      <td>1.555113e+06</td>\n      <td>4478.000000</td>\n      <td>5.000000</td>\n      <td>2.953195e+09</td>\n    </tr>\n  </tbody>\n</table>\n</div>"
     },
     "metadata": {},
     "output_type": "execute_result",
     "execution_count": 5
    }
   ],
   "source": [
    "df.describe()\n"
   ],
   "metadata": {
    "collapsed": false,
    "pycharm": {
     "name": "#%% \n",
     "is_executing": false
    }
   }
  },
  {
   "cell_type": "markdown",
   "source": [
    "## Viewcounts"
   ],
   "metadata": {
    "collapsed": false,
    "pycharm": {
     "name": "#%% md\n",
     "is_executing": false
    }
   }
  },
  {
   "cell_type": "code",
   "execution_count": 17,
   "outputs": [
    {
     "data": {
      "text/plain": "Text(0, 0.5, 'videos (log)')"
     },
     "metadata": {},
     "output_type": "execute_result",
     "execution_count": 17
    },
    {
     "data": {
      "text/plain": "<Figure size 1080x720 with 1 Axes>",
      "image/png": "[encoded data removed]"
     },
     "metadata": {
      "needs_background": "light"
     },
     "output_type": "display_data"
    }
   ],
   "source": [
    "fig, ax = plt.subplots(figsize=(15,10))\n",
    "ax.set(yscale='log')\n",
    "sns.distplot(df['viewcounts'].to_numpy(), bins=100, color='grey', kde=False)\n",
    "plt.title('Viewcounts (log y scale)')\n",
    "plt.xlabel('views')\n",
    "plt.ylabel('videos (log)')"
   ],
   "metadata": {
    "collapsed": false,
    "pycharm": {
     "name": "#%% \n",
     "is_executing": false
    }
   }
  },
  {
   "cell_type": "markdown",
   "source": [
    "#### Least viewed"
   ],
   "metadata": {
    "collapsed": false,
    "pycharm": {
     "name": "#%% md\n"
    }
   }
  },
  {
   "cell_type": "code",
   "execution_count": 9,
   "outputs": [
    {
     "data": {
      "text/plain": "             v_id  n_samples                song_name               creator  \\\n45    -FeCW1JfnCE         30              Future Past        Geneva Jacuzzi   \n1174  7SgI_9u9A9c         30           В наших глазах                  Кино   \n995   EGGbzLspma4         30  His Name Is Mutty Ranks  A Tribe Called Quest   \n3331  _Djika1NFco         30            Into Extremes         Clan of Xymox   \n418   TJEhsSNeTvM         30     Dancing With a Ghost              Valencia   \n\n      v_likes  v_dislikes  v_duration  v_avg_rating  viewcounts  \n45        4.0         0.0        82.0           5.0          21  \n1174      4.0         0.0       172.0           5.0          42  \n995       1.0         0.0       116.0           5.0          85  \n3331      1.0         0.0       342.0           5.0         131  \n418       2.0         0.0       212.0           5.0         137  ",
      "text/html": "<div>\n<style scoped>\n    .dataframe tbody tr th:only-of-type {\n        vertical-align: middle;\n    }\n\n    .dataframe tbody tr th {\n        vertical-align: top;\n    }\n\n    .dataframe thead th {\n        text-align: right;\n    }\n</style>\n<table border=\"1\" class=\"dataframe\">\n  <thead>\n    <tr style=\"text-align: right;\">\n      <th></th>\n      <th>v_id</th>\n      <th>n_samples</th>\n      <th>song_name</th>\n      <th>creator</th>\n      <th>v_likes</th>\n      <th>v_dislikes</th>\n      <th>v_duration</th>\n      <th>v_avg_rating</th>\n      <th>viewcounts</th>\n    </tr>\n  </thead>\n  <tbody>\n    <tr>\n      <td>45</td>\n      <td>-FeCW1JfnCE</td>\n      <td>30</td>\n      <td>Future Past</td>\n      <td>Geneva Jacuzzi</td>\n      <td>4.0</td>\n      <td>0.0</td>\n      <td>82.0</td>\n      <td>5.0</td>\n      <td>21</td>\n    </tr>\n    <tr>\n      <td>1174</td>\n      <td>7SgI_9u9A9c</td>\n      <td>30</td>\n      <td>В наших глазах</td>\n      <td>Кино</td>\n      <td>4.0</td>\n      <td>0.0</td>\n      <td>172.0</td>\n      <td>5.0</td>\n      <td>42</td>\n    </tr>\n    <tr>\n      <td>995</td>\n      <td>EGGbzLspma4</td>\n      <td>30</td>\n      <td>His Name Is Mutty Ranks</td>\n      <td>A Tribe Called Quest</td>\n      <td>1.0</td>\n      <td>0.0</td>\n      <td>116.0</td>\n      <td>5.0</td>\n      <td>85</td>\n    </tr>\n    <tr>\n      <td>3331</td>\n      <td>_Djika1NFco</td>\n      <td>30</td>\n      <td>Into Extremes</td>\n      <td>Clan of Xymox</td>\n      <td>1.0</td>\n      <td>0.0</td>\n      <td>342.0</td>\n      <td>5.0</td>\n      <td>131</td>\n    </tr>\n    <tr>\n      <td>418</td>\n      <td>TJEhsSNeTvM</td>\n      <td>30</td>\n      <td>Dancing With a Ghost</td>\n      <td>Valencia</td>\n      <td>2.0</td>\n      <td>0.0</td>\n      <td>212.0</td>\n      <td>5.0</td>\n      <td>137</td>\n    </tr>\n  </tbody>\n</table>\n</div>"
     },
     "metadata": {},
     "output_type": "execute_result",
     "execution_count": 9
    }
   ],
   "source": [
    "sorted_views = df.sort_values(by=['viewcounts'], ascending=True)\n",
    "sorted_views.head()"
   ],
   "metadata": {
    "collapsed": false,
    "pycharm": {
     "name": "#%%\n",
     "is_executing": false
    }
   }
  },
  {
   "cell_type": "markdown",
   "source": [
    "#### Most viewed"
   ],
   "metadata": {
    "collapsed": false
   }
  },
  {
   "cell_type": "code",
   "execution_count": 11,
   "outputs": [
    {
     "data": {
      "text/plain": "             v_id  n_samples                         song_name     creator  \\\n1224  CevxZvSJLk8         30                              Roar  Katy Perry   \n2611  lp-EO5I60KA         30                 Thinking Out Loud  Ed Sheeran   \n719   RBumgq5yVrA         30                        Let Her Go   Passenger   \n2627  pRpeEdMmmQ0         30  Waka Waka (This Time for Africa)     Shakira   \n373   uelHwf8o7_U         30              Love The Way You Lie      Eminem   \n\n         v_likes  v_dislikes  v_duration  v_avg_rating  viewcounts  \n1224  10337849.0    834301.0       269.0      4.701293  2953194541  \n2611  10733276.0    480611.0       297.0      4.828566  2878210876  \n719    9722598.0    325193.0       254.0      4.870542  2546728867  \n2627   9818249.0    641884.0       211.0      4.754541  2391814721  \n373    8192551.0    307195.0       267.0      4.855434  1884840765  ",
      "text/html": "<div>\n<style scoped>\n    .dataframe tbody tr th:only-of-type {\n        vertical-align: middle;\n    }\n\n    .dataframe tbody tr th {\n        vertical-align: top;\n    }\n\n    .dataframe thead th {\n        text-align: right;\n    }\n</style>\n<table border=\"1\" class=\"dataframe\">\n  <thead>\n    <tr style=\"text-align: right;\">\n      <th></th>\n      <th>v_id</th>\n      <th>n_samples</th>\n      <th>song_name</th>\n      <th>creator</th>\n      <th>v_likes</th>\n      <th>v_dislikes</th>\n      <th>v_duration</th>\n      <th>v_avg_rating</th>\n      <th>viewcounts</th>\n    </tr>\n  </thead>\n  <tbody>\n    <tr>\n      <td>1224</td>\n      <td>CevxZvSJLk8</td>\n      <td>30</td>\n      <td>Roar</td>\n      <td>Katy Perry</td>\n      <td>10337849.0</td>\n      <td>834301.0</td>\n      <td>269.0</td>\n      <td>4.701293</td>\n      <td>2953194541</td>\n    </tr>\n    <tr>\n      <td>2611</td>\n      <td>lp-EO5I60KA</td>\n      <td>30</td>\n      <td>Thinking Out Loud</td>\n      <td>Ed Sheeran</td>\n      <td>10733276.0</td>\n      <td>480611.0</td>\n      <td>297.0</td>\n      <td>4.828566</td>\n      <td>2878210876</td>\n    </tr>\n    <tr>\n      <td>719</td>\n      <td>RBumgq5yVrA</td>\n      <td>30</td>\n      <td>Let Her Go</td>\n      <td>Passenger</td>\n      <td>9722598.0</td>\n      <td>325193.0</td>\n      <td>254.0</td>\n      <td>4.870542</td>\n      <td>2546728867</td>\n    </tr>\n    <tr>\n      <td>2627</td>\n      <td>pRpeEdMmmQ0</td>\n      <td>30</td>\n      <td>Waka Waka (This Time for Africa)</td>\n      <td>Shakira</td>\n      <td>9818249.0</td>\n      <td>641884.0</td>\n      <td>211.0</td>\n      <td>4.754541</td>\n      <td>2391814721</td>\n    </tr>\n    <tr>\n      <td>373</td>\n      <td>uelHwf8o7_U</td>\n      <td>30</td>\n      <td>Love The Way You Lie</td>\n      <td>Eminem</td>\n      <td>8192551.0</td>\n      <td>307195.0</td>\n      <td>267.0</td>\n      <td>4.855434</td>\n      <td>1884840765</td>\n    </tr>\n  </tbody>\n</table>\n</div>"
     },
     "metadata": {},
     "output_type": "execute_result",
     "execution_count": 11
    }
   ],
   "source": [
    "sorted_views.tail()[::-1]"
   ],
   "metadata": {
    "collapsed": false,
    "pycharm": {
     "name": "#%%\n",
     "is_executing": false
    }
   }
  },
  {
   "cell_type": "markdown",
   "source": [
    "## Likes"
   ],
   "metadata": {
    "collapsed": false,
    "pycharm": {
     "name": "#%% md\n"
    }
   }
  },
  {
   "cell_type": "code",
   "execution_count": 14,
   "outputs": [
    {
     "name": "stderr",
     "text": [
      "h:\\anwendungen\\python\\lib\\site-packages\\numpy\\lib\\histograms.py:829: RuntimeWarning: invalid value encountered in greater_equal\n",
      "  keep = (tmp_a >= first_edge)\n",
      "h:\\anwendungen\\python\\lib\\site-packages\\numpy\\lib\\histograms.py:830: RuntimeWarning: invalid value encountered in less_equal\n",
      "  keep &= (tmp_a <= last_edge)\n"
     ],
     "output_type": "stream"
    },
    {
     "data": {
      "text/plain": "Text(0, 0.5, 'videos (log)')"
     },
     "metadata": {},
     "output_type": "execute_result",
     "execution_count": 14
    },
    {
     "data": {
      "text/plain": "<Figure size 1080x720 with 1 Axes>",
      "image/png": "[encoded data removed]"
     },
     "metadata": {
      "needs_background": "light"
     },
     "output_type": "display_data"
    }
   ],
   "source": [
    "fig, ax = plt.subplots(figsize=(15,10))\n",
    "ax.set(yscale='log')\n",
    "sns.distplot(df['v_likes'].to_numpy(), bins=100, color='green', kde=False)\n",
    "plt.title('Likes (log y scale)')\n",
    "plt.xlabel('likes')\n",
    "plt.ylabel('videos (log)')"
   ],
   "metadata": {
    "collapsed": false,
    "pycharm": {
     "name": "#%%\n",
     "is_executing": false
    }
   }
  },
  {
   "cell_type": "markdown",
   "source": [
    "## Dislikes"
   ],
   "metadata": {
    "collapsed": false,
    "pycharm": {
     "name": "#%% md\n"
    }
   }
  },
  {
   "cell_type": "code",
   "execution_count": 18,
   "outputs": [
    {
     "name": "stderr",
     "text": [
      "h:\\anwendungen\\python\\lib\\site-packages\\numpy\\lib\\histograms.py:829: RuntimeWarning: invalid value encountered in greater_equal\n",
      "  keep = (tmp_a >= first_edge)\n",
      "h:\\anwendungen\\python\\lib\\site-packages\\numpy\\lib\\histograms.py:830: RuntimeWarning: invalid value encountered in less_equal\n",
      "  keep &= (tmp_a <= last_edge)\n"
     ],
     "output_type": "stream"
    },
    {
     "data": {
      "text/plain": "Text(0, 0.5, 'videos (log)')"
     },
     "metadata": {},
     "output_type": "execute_result",
     "execution_count": 18
    },
    {
     "data": {
      "text/plain": "<Figure size 1080x720 with 1 Axes>",
      "image/png": "[encoded data removed]"
     },
     "metadata": {
      "needs_background": "light"
     },
     "output_type": "display_data"
    }
   ],
   "source": [
    "fig, ax = plt.subplots(figsize=(15,10))\n",
    "ax.set(yscale='log')\n",
    "sns.distplot(df['v_dislikes'].to_numpy(), bins=100, color='red', kde=False)\n",
    "plt.title('Dislikes (log y scale)')\n",
    "plt.xlabel('dislikes')\n",
    "plt.ylabel('videos (log)')"
   ],
   "metadata": {
    "collapsed": false,
    "pycharm": {
     "name": "#%%\n",
     "is_executing": false
    }
   }
  },
  {
   "cell_type": "markdown",
   "source": [
    "## Average Rating"
   ],
   "metadata": {
    "collapsed": false,
    "pycharm": {
     "name": "#%% md\n"
    }
   }
  },
  {
   "cell_type": "markdown",
   "source": [
    "## Connections"
   ],
   "metadata": {
    "collapsed": false
   }
  },
  {
   "cell_type": "markdown",
   "source": [
    "## Conclusion\n",
    "\n",
    "\n",
    "\n",
    "\n"
   ],
   "metadata": {
    "collapsed": false,
    "pycharm": {
     "name": "#%% md\n"
    }
   }
  }
 ],
 "metadata": {
  "kernelspec": {
   "display_name": "Python 3",
   "language": "python",
   "name": "python3"
  },
  "language_info": {
   "codemirror_mode": {
    "name": "ipython",
    "version": 2
   },
   "file_extension": ".py",
   "mimetype": "text/x-python",
   "name": "python",
   "nbconvert_exporter": "python",
   "pygments_lexer": "ipython2",
   "version": "2.7.6"
  },
  "pycharm": {
   "stem_cell": {
    "cell_type": "raw",
    "source": [],
    "metadata": {
     "collapsed": false
    }
   }
  }
 },
 "nbformat": 4,
 "nbformat_minor": 0
}